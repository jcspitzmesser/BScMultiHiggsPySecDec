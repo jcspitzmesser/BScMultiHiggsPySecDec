{
 "cells": [
  {
   "cell_type": "code",
   "execution_count": null,
   "metadata": {},
   "outputs": [],
   "source": [
    "#!/usr/bin/env python3\n",
    "import multiprocessing\n",
    "import os\n",
    "import subprocess\n",
    "import sys\n",
    "import tempfile\n",
    "import sympy as sp\n",
    "import numpy as np\n",
    "import pySecDec as psd"
   ]
  },
  {
   "cell_type": "code",
   "execution_count": null,
   "metadata": {},
   "outputs": [],
   "source": [
    "notebookdir = os.getcwd()"
   ]
  },
  {
   "cell_type": "code",
   "execution_count": null,
   "metadata": {},
   "outputs": [],
   "source": [
    "signmap = {\n",
    "  sp.Symbol('x0'): 1,\n",
    "  sp.Symbol('x1'): 1,\n",
    "  sp.Symbol('x2'): 1,\n",
    "  sp.Symbol('x3'): 1,\n",
    "}"
   ]
  },
  {
   "cell_type": "code",
   "execution_count": null,
   "metadata": {},
   "outputs": [],
   "source": [
    "def needs_cdeform(name, Fpoly):\n",
    "  poly = sp.sympify(str(Fpoly))\n",
    "  terms = sp.Add.make_args(poly.expand())\n",
    "  res = not all((t.subs(signmap) > 0) == True for t in terms)\n",
    "  print(f'Needs-Contour-Deformation({name}, {poly}) = {res}')\n",
    "  return res"
   ]
  },
  {
   "cell_type": "code",
   "execution_count": null,
   "metadata": {},
   "outputs": [],
   "source": [
    "def call(f):\n",
    "  return f()"
   ]
  },
  {
   "cell_type": "code",
   "execution_count": null,
   "metadata": {},
   "outputs": [],
   "source": [
    "b1_propagators = [\n",
    "  '(l1)^2-1',\n",
    "  '(l1 - q1)^2-1',\n",
    "  '(l1 + q2)^2-1',\n",
    "  '(l1 - p1 + q2)^2-1'\n",
    "]"
   ]
  },
  {
   "cell_type": "code",
   "execution_count": null,
   "metadata": {},
   "outputs": [],
   "source": [
    "b1_replacement_rules = [\n",
    "  ('p1*p1', '-1/2*s12 + s13/2 + s23/2'),\n",
    "  ('p1*q1', '-1/4*s12 - s13/4 + s23/4'),\n",
    "  ('p1*q2', '-1/4*s12 + s13/4 - s23/4'),\n",
    "  ('q1*q1', '0'),\n",
    "  ('q1*q2', 's12/2'),\n",
    "  ('q2*q2', '0')\n",
    "]"
   ]
  },
  {
   "cell_type": "code",
   "execution_count": null,
   "metadata": {},
   "outputs": [],
   "source": [
    "b2_propagators = [\n",
    "  '(l1)^2-1',\n",
    "  '(l1 - q1)^2-1',\n",
    "  '(l1 + p1 - q1)^2-1',\n",
    "  '(l1 + q2)^2-1'\n",
    "]"
   ]
  },
  {
   "cell_type": "code",
   "execution_count": null,
   "metadata": {},
   "outputs": [],
   "source": [
    "b2_replacement_rules = b1_replacement_rules"
   ]
  },
  {
   "cell_type": "code",
   "execution_count": null,
   "metadata": {},
   "outputs": [],
   "source": [
    "b3_propagators = [\n",
    "  '(l1)^2-1',\n",
    "  '(l1 - p1)^2-1',\n",
    "  '(l1 - q1)^2-1',\n",
    "  '(l1 - p1 + q2)^2-1'\n",
    "]"
   ]
  },
  {
   "cell_type": "code",
   "execution_count": null,
   "metadata": {},
   "outputs": [],
   "source": [
    "b3_replacement_rules = b1_replacement_rules"
   ]
  },
  {
   "cell_type": "code",
   "execution_count": null,
   "metadata": {},
   "outputs": [],
   "source": [
    "def int_0_B1_0_1_1_0():\n",
    "  li = psd.loop_integral.LoopIntegralFromPropagators(\n",
    "    loop_momenta = ['l1'],\n",
    "    external_momenta = ['p1','q1','q2'],\n",
    "    propagators = b1_propagators,\n",
    "    powerlist = [0,1,1,0],\n",
    "    replacement_rules = b1_replacement_rules,\n",
    "    dimensionality = '4-2*eps',\n",
    "    regulators = ['eps']\n",
    "  )\n",
    "  return psd.LoopPackage(\n",
    "    name = 'B1_0_1_1_0',\n",
    "    loop_integral = li,\n",
    "    real_parameters = ['s12', 's13', 's23'],\n",
    "    additional_prefactor = 'I*2^(-4 + 2*eps)*pi^(-2 + eps)',\n",
    "    decomposition_method = 'iterative',\n",
    "    form_optimization_level = 4,\n",
    "    form_work_space = '100M',\n",
    "    form_threads = 1,\n",
    "    contour_deformation = needs_cdeform('B1_0_1_1_0', li.F)\n",
    "  )"
   ]
  },
  {
   "cell_type": "code",
   "execution_count": null,
   "metadata": {},
   "outputs": [],
   "source": [
    "def int_1_B1_0_1_1_1():\n",
    "  li = psd.loop_integral.LoopIntegralFromPropagators(\n",
    "    loop_momenta = ['l1'],\n",
    "    external_momenta = ['p1','q1','q2'],\n",
    "    propagators = b1_propagators,\n",
    "    powerlist = [0,1,1,1],\n",
    "    replacement_rules = b1_replacement_rules,\n",
    "    dimensionality = '4-2*eps',\n",
    "    regulators = ['eps']\n",
    "  )\n",
    "  return psd.LoopPackage(\n",
    "    name = 'B1_0_1_1_1',\n",
    "    loop_integral = li,\n",
    "    real_parameters = ['s12', 's13', 's23'],\n",
    "    additional_prefactor = 'I*2^(-4 + 2*eps)*pi^(-2 + eps)',\n",
    "    decomposition_method = 'geometric_ku',\n",
    "    form_optimization_level = 4,\n",
    "    form_work_space = '100M',\n",
    "    form_threads = 1,\n",
    "    contour_deformation = needs_cdeform('B1_0_1_1_1', li.F)\n",
    "  )"
   ]
  },
  {
   "cell_type": "code",
   "execution_count": null,
   "metadata": {},
   "outputs": [],
   "source": [
    "def int_2_B1_1_1_0_1():\n",
    "  li = psd.loop_integral.LoopIntegralFromPropagators(\n",
    "    loop_momenta = ['l1'],\n",
    "    external_momenta = ['p1','q1','q2'],\n",
    "    propagators = b1_propagators,\n",
    "    powerlist = [1,1,0,1],\n",
    "    replacement_rules = b1_replacement_rules,\n",
    "    dimensionality = '4-2*eps',\n",
    "    regulators = ['eps']\n",
    "  )\n",
    "  return psd.LoopPackage(\n",
    "    name = 'B1_1_1_0_1',\n",
    "    loop_integral = li,\n",
    "    real_parameters = ['s12', 's13', 's23'],\n",
    "    additional_prefactor = 'I*2^(-4 + 2*eps)*pi^(-2 + eps)',\n",
    "    decomposition_method = 'geometric_ku',\n",
    "    form_optimization_level = 4,\n",
    "    form_work_space = '100M',\n",
    "    form_threads = 1,\n",
    "    contour_deformation = needs_cdeform('B1_1_1_0_1', li.F)\n",
    "  )"
   ]
  },
  {
   "cell_type": "code",
   "execution_count": null,
   "metadata": {},
   "outputs": [],
   "source": [
    "def int_3_B1_1_1_1_0():\n",
    "  li = psd.loop_integral.LoopIntegralFromPropagators(\n",
    "    loop_momenta = ['l1'],\n",
    "    external_momenta = ['p1','q1','q2'],\n",
    "    propagators = b1_propagators,\n",
    "    powerlist = [1,1,1,0],\n",
    "    replacement_rules = b1_replacement_rules,\n",
    "    dimensionality = '4-2*eps',\n",
    "    regulators = ['eps']\n",
    "  )\n",
    "  return psd.LoopPackage(\n",
    "    name = 'B1_1_1_1_0',\n",
    "    loop_integral = li,\n",
    "    real_parameters = ['s12', 's13', 's23'],\n",
    "    additional_prefactor = 'I*2^(-4 + 2*eps)*pi^(-2 + eps)',\n",
    "    decomposition_method = 'geometric_ku',\n",
    "    form_optimization_level = 4,\n",
    "    form_work_space = '100M',\n",
    "    form_threads = 1,\n",
    "    contour_deformation = needs_cdeform('B1_1_1_1_0', li.F)\n",
    "  )"
   ]
  },
  {
   "cell_type": "code",
   "execution_count": null,
   "metadata": {},
   "outputs": [],
   "source": [
    "def int_4_B1_1_1_1_1():\n",
    "  li = psd.loop_integral.LoopIntegralFromPropagators(\n",
    "    loop_momenta = ['l1'],\n",
    "    external_momenta = ['p1','q1','q2'],\n",
    "    propagators = b1_propagators,\n",
    "    powerlist = [1,1,1,1],\n",
    "    replacement_rules = b1_replacement_rules,\n",
    "    dimensionality = '4-2*eps',\n",
    "    regulators = ['eps']\n",
    "  )\n",
    "  return psd.LoopPackage(\n",
    "    name = 'B1_1_1_1_1',\n",
    "    loop_integral = li,\n",
    "    real_parameters = ['s12', 's13', 's23'],\n",
    "    additional_prefactor = 'I*2^(-4 + 2*eps)*pi^(-2 + eps)',\n",
    "    decomposition_method = 'geometric_ku',\n",
    "    form_optimization_level = 4,\n",
    "    form_work_space = '100M',\n",
    "    form_threads = 1,\n",
    "    contour_deformation = needs_cdeform('B1_1_1_1_1', li.F)\n",
    "  )"
   ]
  },
  {
   "cell_type": "code",
   "execution_count": null,
   "metadata": {},
   "outputs": [],
   "source": [
    "def int_5_B2_1_1_1_0():\n",
    "  li = psd.loop_integral.LoopIntegralFromPropagators(\n",
    "    loop_momenta = ['l1'],\n",
    "    external_momenta = ['p1','q1','q2'],\n",
    "    propagators = b2_propagators,\n",
    "    powerlist = [1,1,1,0],\n",
    "    replacement_rules = b2_replacement_rules,\n",
    "    dimensionality = '4-2*eps',\n",
    "    regulators = ['eps']\n",
    "  )\n",
    "  return psd.LoopPackage(\n",
    "    name = 'B2_1_1_1_0',\n",
    "    loop_integral = li,\n",
    "    real_parameters = ['s12', 's13', 's23'],\n",
    "    additional_prefactor = 'I*2^(-4 + 2*eps)*pi^(-2 + eps)',\n",
    "    decomposition_method = 'geometric_ku',\n",
    "    form_optimization_level = 4,\n",
    "    form_work_space = '100M',\n",
    "    form_threads = 1,\n",
    "    contour_deformation = needs_cdeform('B2_1_1_1_0', li.F)\n",
    "  )"
   ]
  },
  {
   "cell_type": "code",
   "execution_count": null,
   "metadata": {},
   "outputs": [],
   "source": [
    "def int_6_B2_1_1_1_1():\n",
    "  li = psd.loop_integral.LoopIntegralFromPropagators(\n",
    "    loop_momenta = ['l1'],\n",
    "    external_momenta = ['p1','q1','q2'],\n",
    "    propagators = b2_propagators,\n",
    "    powerlist = [1,1,1,1],\n",
    "    replacement_rules = b2_replacement_rules,\n",
    "    dimensionality = '4-2*eps',\n",
    "    regulators = ['eps']\n",
    "  )\n",
    "  return psd.LoopPackage(\n",
    "    name = 'B2_1_1_1_1',\n",
    "    loop_integral = li,\n",
    "    real_parameters = ['s12', 's13', 's23'],\n",
    "    additional_prefactor = 'I*2^(-4 + 2*eps)*pi^(-2 + eps)',\n",
    "    decomposition_method = 'geometric_ku',\n",
    "    form_optimization_level = 4,\n",
    "    form_work_space = '100M',\n",
    "    form_threads = 1,\n",
    "    contour_deformation = needs_cdeform('B2_1_1_1_1', li.F)\n",
    "  )"
   ]
  },
  {
   "cell_type": "code",
   "execution_count": null,
   "metadata": {},
   "outputs": [],
   "source": [
    "def int_7_B3_1_1_1_1():\n",
    "  li = psd.loop_integral.LoopIntegralFromPropagators(\n",
    "    loop_momenta = ['l1'],\n",
    "    external_momenta = ['p1','q1','q2'],\n",
    "    propagators = b3_propagators,\n",
    "    powerlist = [1,1,1,1],\n",
    "    replacement_rules = b3_replacement_rules,\n",
    "    dimensionality = '4-2*eps',\n",
    "    regulators = ['eps']\n",
    "  )\n",
    "  return psd.LoopPackage(\n",
    "    name = 'B3_1_1_1_1',\n",
    "    loop_integral = li,\n",
    "    real_parameters = ['s12', 's13', 's23'],\n",
    "    additional_prefactor = 'I*2^(-4 + 2*eps)*pi^(-2 + eps)',\n",
    "    decomposition_method = 'geometric_ku',\n",
    "    form_optimization_level = 4,\n",
    "    form_work_space = '100M',\n",
    "    form_threads = 1,\n",
    "    contour_deformation = needs_cdeform('B3_1_1_1_1', li.F)\n",
    "  )"
   ]
  },
  {
   "cell_type": "code",
   "execution_count": null,
   "metadata": {},
   "outputs": [],
   "source": [
    "if __name__ == '__main__':\n",
    "  # Always start in the directory this file resides in\n",
    "  thisdir = os.path.dirname(sys.argv[0])\n",
    "  if thisdir: os.chdir(os.path.dirname(sys.argv[0]))"
   ]
  },
  {
   "cell_type": "code",
   "execution_count": null,
   "metadata": {},
   "outputs": [],
   "source": [
    "  make_integrals = [\n",
    "    int_0_B1_0_1_1_0,\n",
    "    int_1_B1_0_1_1_1,\n",
    "    int_2_B1_1_1_0_1,\n",
    "    int_3_B1_1_1_1_0,\n",
    "    int_4_B1_1_1_1_1,\n",
    "    int_5_B2_1_1_1_0,\n",
    "    int_6_B2_1_1_1_1,\n",
    "    int_7_B3_1_1_1_1,\n",
    "  ]"
   ]
  },
  {
   "cell_type": "code",
   "execution_count": null,
   "metadata": {},
   "outputs": [],
   "source": [
    "  coefficients_1 = {\n",
    "    \"gH^2*gs^2*Na*Tf*flvsumt[1]\": {\n",
    "      0: \"(32*eps*(s13 + s23)*(-s12^2 + (4 - 2*eps)*s12^2 + 6*s12*s13 - 2*(4 - 2*eps)*s12*s13 + 3*s13^2 - (4 - 2*eps)*s13^2 + 6*s12*s23 - 2*(4 - 2*eps)*s12*s23 - 6*s13*s23 + 2*(4 - 2*eps)*s13*s23 + 3*s23^2 - (4 - 2*eps)*s23^2))/((1 - 2*eps)*(2 - 2*eps)*(3*s12 - s13 - s23)*(3*s12^2 - 2*s12*s13 - s13^2 - 2*s12*s23 + 2*s13*s23 - s23^2))\",\n",
    "      1: \"(-8*eps*s12*(s12 - 2*s13 - 2*s23)*(-8 + s13 + s23))/((1 - 2*eps)*(3*s12^2 - 2*s12*s13 - s13^2 - 2*s12*s23 + 2*s13*s23 - s23^2))\",\n",
    "      2: \"((s12 + s13 - s23)*(80*s12^2 - 8*(4 - 2*eps)*s12^2 - 14*s12^3 + 2*(4 - 2*eps)*s12^3 + 32*s12*s13 - 16*(4 - 2*eps)*s12*s13 - 22*s12^2*s13 + 5*(4 - 2*eps)*s12^2*s13 + 16*s13^2 - 8*(4 - 2*eps)*s13^2 - 10*s12*s13^2 + 4*(4 - 2*eps)*s12*s13^2 - 2*s13^3 + (4 - 2*eps)*s13^3 + 160*s12*s23 - 48*(4 - 2*eps)*s12*s23 - 22*s12^2*s23 + 5*(4 - 2*eps)*s12^2*s23 - 32*s13*s23 + 16*(4 - 2*eps)*s13*s23 - 12*s12*s13*s23 + 4*(4 - 2*eps)*s12*s13*s23 + 2*s13^2*s23 - (4 - 2*eps)*s13^2*s23 + 16*s23^2 - 8*(4 - 2*eps)*s23^2 - 26*s12*s23^2 + 8*(4 - 2*eps)*s12*s23^2 + 2*s13*s23^2 - (4 - 2*eps)*s13*s23^2 - 2*s23^3 + (4 - 2*eps)*s23^3))/((1 - 2*eps)*s12*(3*s12^2 - 2*s12*s13 - s13^2 - 2*s12*s23 + 2*s13*s23 - s23^2))\",\n",
    "      3: \"(-4*(42*s12^4 - 27*(4 - 2*eps)*s12^4 + 3*(4 - 2*eps)^2*s12^4 - 176*s12^2*s13 + 128*(4 - 2*eps)*s12^2*s13 - 24*(4 - 2*eps)^2*s12^2*s13 + 26*s12^3*s13 - 27*(4 - 2*eps)*s12^3*s13 + 7*(4 - 2*eps)^2*s12^3*s13 - 32*s12*s13^2 - 16*(4 - 2*eps)*s12*s13^2 + 8*(4 - 2*eps)^2*s12*s13^2 + 6*s12^2*s13^2 - 3*(4 - 2*eps)*s12^2*s13^2 - 48*s13^3 + 16*(4 - 2*eps)*s13^3 - 26*s12*s13^3 + 21*(4 - 2*eps)*s12*s13^3 - 4*(4 - 2*eps)^2*s12*s13^3 - 176*s12^2*s23 + 128*(4 - 2*eps)*s12^2*s23 - 24*(4 - 2*eps)^2*s12^2*s23 + 26*s12^3*s23 - 27*(4 - 2*eps)*s12^3*s23 + 7*(4 - 2*eps)^2*s12^3*s23 - 64*s12*s13*s23 - 32*(4 - 2*eps)*s12*s13*s23 + 16*(4 - 2*eps)^2*s12*s13*s23 - 60*s12^2*s13*s23 + 54*(4 - 2*eps)*s12^2*s13*s23 - 12*(4 - 2*eps)^2*s12^2*s13*s23 + 48*s13^2*s23 - 16*(4 - 2*eps)*s13^2*s23 - 6*s12*s13^2*s23 + 3*(4 - 2*eps)*s12*s13^2*s23 - 32*s12*s23^2 - 16*(4 - 2*eps)*s12*s23^2 + 8*(4 - 2*eps)^2*s12*s23^2 + 6*s12^2*s23^2 - 3*(4 - 2*eps)*s12^2*s23^2 + 48*s13*s23^2 - 16*(4 - 2*eps)*s13*s23^2 - 6*s12*s13*s23^2 + 3*(4 - 2*eps)*s12*s13*s23^2 - 48*s23^3 + 16*(4 - 2*eps)*s23^3 - 26*s12*s23^3 + 21*(4 - 2*eps)*s12*s23^3 - 4*(4 - 2*eps)^2*s12*s23^3))/((1 - 2*eps)*(2 - 2*eps)*(3*s12 - s13 - s23)*(3*s12^2 - 2*s12*s13 - s13^2 - 2*s12*s23 + 2*s13*s23 - s23^2))\",\n",
    "      4: \"(4*(24*s12^2 + 2*s12^3 - 2*(4 - 2*eps)*s12^3 - 16*s12*s13 - 15*s12^2*s13 + 4*(4 - 2*eps)*s12^2*s13 - 8*s13^2 - 4*s12*s13^2 + 2*(4 - 2*eps)*s12*s13^2 + s13^3 - 16*s12*s23 - 15*s12^2*s23 + 4*(4 - 2*eps)*s12^2*s23 - 4*s12^3*s23 + (4 - 2*eps)*s12^3*s23 + 16*s13*s23 + 16*s12*s13*s23 - 4*(4 - 2*eps)*s12*s13*s23 - s13^2*s23 - 8*s23^2 + 28*s12*s23^2 - 6*(4 - 2*eps)*s12*s23^2 - s13*s23^2 - 4*s12*s13*s23^2 + (4 - 2*eps)*s12*s13*s23^2 + s23^3 - 4*s12*s23^3 + (4 - 2*eps)*s12*s23^3))/((1 - 2*eps)*(3*s12^2 - 2*s12*s13 - s13^2 - 2*s12*s23 + 2*s13*s23 - s23^2))\",\n",
    "      5: \"((s12 - s13 + s23)*(80*s12^2 - 8*(4 - 2*eps)*s12^2 - 14*s12^3 + 2*(4 - 2*eps)*s12^3 + 160*s12*s13 - 48*(4 - 2*eps)*s12*s13 - 22*s12^2*s13 + 5*(4 - 2*eps)*s12^2*s13 + 16*s13^2 - 8*(4 - 2*eps)*s13^2 - 26*s12*s13^2 + 8*(4 - 2*eps)*s12*s13^2 - 2*s13^3 + (4 - 2*eps)*s13^3 + 32*s12*s23 - 16*(4 - 2*eps)*s12*s23 - 22*s12^2*s23 + 5*(4 - 2*eps)*s12^2*s23 - 32*s13*s23 + 16*(4 - 2*eps)*s13*s23 - 12*s12*s13*s23 + 4*(4 - 2*eps)*s12*s13*s23 + 2*s13^2*s23 - (4 - 2*eps)*s13^2*s23 + 16*s23^2 - 8*(4 - 2*eps)*s23^2 - 10*s12*s23^2 + 4*(4 - 2*eps)*s12*s23^2 + 2*s13*s23^2 - (4 - 2*eps)*s13*s23^2 - 2*s23^3 + (4 - 2*eps)*s23^3))/((1 - 2*eps)*s12*(3*s12^2 - 2*s12*s13 - s13^2 - 2*s12*s23 + 2*s13*s23 - s23^2))\",\n",
    "      6: \"(4*(24*s12^2 + 2*s12^3 - 2*(4 - 2*eps)*s12^3 - 16*s12*s13 - 15*s12^2*s13 + 4*(4 - 2*eps)*s12^2*s13 - 4*s12^3*s13 + (4 - 2*eps)*s12^3*s13 - 8*s13^2 + 28*s12*s13^2 - 6*(4 - 2*eps)*s12*s13^2 + s13^3 - 4*s12*s13^3 + (4 - 2*eps)*s12*s13^3 - 16*s12*s23 - 15*s12^2*s23 + 4*(4 - 2*eps)*s12^2*s23 + 16*s13*s23 + 16*s12*s13*s23 - 4*(4 - 2*eps)*s12*s13*s23 - s13^2*s23 - 4*s12*s13^2*s23 + (4 - 2*eps)*s12*s13^2*s23 - 8*s23^2 - 4*s12*s23^2 + 2*(4 - 2*eps)*s12*s23^2 - s13*s23^2 + s23^3))/((1 - 2*eps)*(3*s12^2 - 2*s12*s13 - s13^2 - 2*s12*s23 + 2*s13*s23 - s23^2))\",\n",
    "      7: \"(384*s12^3 - 48*s12^4 - 24*(4 - 2*eps)*s12^4 - 2*s12^5 + 2*(4 - 2*eps)*s12^5 - 256*s12^2*s13 - 432*s12^3*s13 + 96*(4 - 2*eps)*s12^3*s13 + 18*s12^4*s13 - (4 - 2*eps)*s12^4*s13 - 128*s12*s13^2 - 224*s12^2*s13^2 + 80*(4 - 2*eps)*s12^2*s13^2 + 52*s12^3*s13^2 - 12*(4 - 2*eps)*s12^3*s13^2 - 48*s12*s13^3 + 32*(4 - 2*eps)*s12*s13^3 + 44*s12^2*s13^3 - 14*(4 - 2*eps)*s12^2*s13^3 - 16*s13^4 + 8*(4 - 2*eps)*s13^4 + 14*s12*s13^4 - 6*(4 - 2*eps)*s12*s13^4 + 2*s13^5 - (4 - 2*eps)*s13^5 - 256*s12^2*s23 - 432*s12^3*s23 + 96*(4 - 2*eps)*s12^3*s23 + 18*s12^4*s23 - (4 - 2*eps)*s12^4*s23 + 256*s12*s13*s23 + 320*s12^2*s13*s23 - 32*(4 - 2*eps)*s12^2*s13*s23 + 88*s12^3*s13*s23 - 24*(4 - 2*eps)*s12^3*s13*s23 + 48*s12*s13^2*s23 - 32*(4 - 2*eps)*s12*s13^2*s23 - 12*s12^2*s13^2*s23 - 2*(4 - 2*eps)*s12^2*s13^2*s23 + 64*s13^3*s23 - 32*(4 - 2*eps)*s13^3*s23 - 24*s12*s13^3*s23 + 8*(4 - 2*eps)*s12*s13^3*s23 - 6*s13^4*s23 + 3*(4 - 2*eps)*s13^4*s23 - 128*s12*s23^2 - 224*s12^2*s23^2 + 80*(4 - 2*eps)*s12^2*s23^2 + 52*s12^3*s23^2 - 12*(4 - 2*eps)*s12^3*s23^2 + 48*s12*s13*s23^2 - 32*(4 - 2*eps)*s12*s13*s23^2 - 12*s12^2*s13*s23^2 - 2*(4 - 2*eps)*s12^2*s13*s23^2 - 96*s13^2*s23^2 + 48*(4 - 2*eps)*s13^2*s23^2 + 20*s12*s13^2*s23^2 - 4*(4 - 2*eps)*s12*s13^2*s23^2 + 4*s13^3*s23^2 - 2*(4 - 2*eps)*s13^3*s23^2 - 48*s12*s23^3 + 32*(4 - 2*eps)*s12*s23^3 + 44*s12^2*s23^3 - 14*(4 - 2*eps)*s12^2*s23^3 + 64*s13*s23^3 - 32*(4 - 2*eps)*s13*s23^3 - 24*s12*s13*s23^3 + 8*(4 - 2*eps)*s12*s13*s23^3 + 4*s13^2*s23^3 - 2*(4 - 2*eps)*s13^2*s23^3 - 16*s23^4 + 8*(4 - 2*eps)*s23^4 + 14*s12*s23^4 - 6*(4 - 2*eps)*s12*s23^4 - 6*s13*s23^4 + 3*(4 - 2*eps)*s13*s23^4 + 2*s23^5 - (4 - 2*eps)*s23^5)/(4*(1 - 2*eps)*s12*(3*s12^2 - 2*s12*s13 - s13^2 - 2*s12*s23 + 2*s13*s23 - s23^2))\",\n",
    "    },\n",
    "  }\n",
    "  try:\n",
    "    nthreads = int(os.environ['THREADS'])\n",
    "  except KeyError:\n",
    "    try:\n",
    "      nthreads = len(os.sched_getaffinity(0))\n",
    "    except AttributeError:\n",
    "      nthreads = os.cpu_count()\n",
    "  if nthreads > 1:\n",
    "    with multiprocessing.Pool(nthreads) as pool:\n",
    "      integrals = pool.map(call, make_integrals)\n",
    "  else:\n",
    "    integrals = [f() for f in make_integrals]\n",
    "  subprocess.check_call(['rm', '-rf', 'disteval'])\n",
    "  cwd = os.getcwd()\n",
    "  with tempfile.TemporaryDirectory(prefix='psd') as tmp:\n",
    "    os.chdir(tmp)\n",
    "    psd.sum_package('sum_F1',\n",
    "      integrals,\n",
    "      coefficients = coefficients_1,\n",
    "      regulators = ['eps'],\n",
    "      requested_orders = [0],\n",
    "      real_parameters = ['s12', 's13', 's23'],\n",
    "      processes = nthreads,\n",
    "    )\n",
    "    subprocess.check_call(['make', '-C', 'sum_F1', '-j', str(nthreads), 'disteval.done'])\n",
    "    subprocess.check_call(['cp', '-a', 'sum_F1/disteval', cwd])\n",
    "    subprocess.check_call(['rm', '-rf', 'sum_F1'])"
   ]
  },
  {
   "cell_type": "code",
   "execution_count": null,
   "metadata": {},
   "outputs": [],
   "source": [
    "os.chdir(notebookdir)\n",
    "subprocess.check_call(['mv', 'disteval', 'disteval_F1'])"
   ]
  },
  {
   "cell_type": "code",
   "execution_count": null,
   "metadata": {},
   "outputs": [],
   "source": [
    "  coefficients_2 = {\n",
    "    \"gH^2*gs^2*Na*Tf*flvsumt[1]\": {\n",
    "      0: \"(64*eps*s12^2*(s13 + s23))/((1 - 2*eps)*(3*s12 - s13 - s23)*(3*s12^2 - 2*s12*s13 - s13^2 - 2*s12*s23 + 2*s13*s23 - s23^2))\",\n",
    "      1: \"(4*(-8 + s13 + s23)*(-7*s12^2 + 2*(4 - 2*eps)*s12^2 + 2*s12*s13 + 3*s13^2 - (4 - 2*eps)*s13^2 + 2*s12*s23 - 6*s13*s23 + 2*(4 - 2*eps)*s13*s23 + 3*s23^2 - (4 - 2*eps)*s23^2))/((1 - 2*eps)*(3*s12^2 - 2*s12*s13 - s13^2 - 2*s12*s23 + 2*s13*s23 - s23^2))\",\n",
    "      2: \"-(((s12 + s13 - s23)*(-32*s12^2 - 8*(4 - 2*eps)*s12^2 + 2*s12^3 + 2*(4 - 2*eps)*s12^3 + 64*s12*s13 - 16*(4 - 2*eps)*s12*s13 - 8*s12^2*s13 + 5*(4 - 2*eps)*s12^2*s13 + 32*s13^2 - 8*(4 - 2*eps)*s13^2 - 14*s12*s13^2 + 4*(4 - 2*eps)*s12*s13^2 - 4*s13^3 + (4 - 2*eps)*s13^3 + 128*s12*s23 - 48*(4 - 2*eps)*s12*s23 - 8*s12^2*s23 + 5*(4 - 2*eps)*s12^2*s23 - 64*s13*s23 + 16*(4 - 2*eps)*s13*s23 - 12*s12*s13*s23 + 4*(4 - 2*eps)*s12*s13*s23 + 4*s13^2*s23 - (4 - 2*eps)*s13^2*s23 + 32*s23^2 - 8*(4 - 2*eps)*s23^2 - 22*s12*s23^2 + 8*(4 - 2*eps)*s12*s23^2 + 4*s13*s23^2 - (4 - 2*eps)*s13*s23^2 - 4*s23^3 + (4 - 2*eps)*s23^3))/((1 - 2*eps)*s12*(3*s12^2 - 2*s12*s13 - s13^2 - 2*s12*s23 + 2*s13*s23 - s23^2)))\",\n",
    "      3: \"(4*s12*(3*s12^3 + 3*(4 - 2*eps)*s12^3 + 80*s12*s13 - 24*(4 - 2*eps)*s12*s13 - 11*s12^2*s13 + (4 - 2*eps)*s12^2*s13 - 16*s13^2 + 8*(4 - 2*eps)*s13^2 - 9*s12*s13^2 + 4*(4 - 2*eps)*s12*s13^2 + 5*s13^3 - 2*(4 - 2*eps)*s13^3 + 80*s12*s23 - 24*(4 - 2*eps)*s12*s23 - 11*s12^2*s23 + (4 - 2*eps)*s12^2*s23 - 32*s13*s23 + 16*(4 - 2*eps)*s13*s23 + 18*s12*s13*s23 - 4*(4 - 2*eps)*s12*s13*s23 + 3*s13^2*s23 - 2*(4 - 2*eps)*s13^2*s23 - 16*s23^2 + 8*(4 - 2*eps)*s23^2 - 9*s12*s23^2 + 4*(4 - 2*eps)*s12*s23^2 + 3*s13*s23^2 - 2*(4 - 2*eps)*s13*s23^2 + 5*s23^3 - 2*(4 - 2*eps)*s23^3))/((1 - 2*eps)*(3*s12 - s13 - s23)*(3*s12^2 - 2*s12*s13 - s13^2 - 2*s12*s23 + 2*s13*s23 - s23^2))\",\n",
    "      4: \"(2*(48*s12^2 + 16*s12^3 - 8*(4 - 2*eps)*s12^3 - 32*s12*s13 - 6*s12^2*s13 - 16*s13^2 + 4*s12*s13^2 + 2*s13^3 - 32*s12*s23 - 6*s12^2*s23 - 5*s12^3*s23 + (4 - 2*eps)*s12^3*s23 + 32*s13*s23 + 8*s12*s13*s23 + 6*s12^2*s13*s23 - 2*(4 - 2*eps)*s12^2*s13*s23 - 2*s13^2*s23 + 3*s12*s13^2*s23 - (4 - 2*eps)*s12*s13^2*s23 - 16*s23^2 - 28*s12*s23^2 + 16*(4 - 2*eps)*s12*s23^2 + 6*s12^2*s23^2 - 2*(4 - 2*eps)*s12^2*s23^2 - 2*s13*s23^2 - 2*s12*s13*s23^2 + 2*s23^3 + 7*s12*s23^3 - 3*(4 - 2*eps)*s12*s23^3))/((1 - 2*eps)*(3*s12^2 - 2*s12*s13 - s13^2 - 2*s12*s23 + 2*s13*s23 - s23^2))\",\n",
    "      5: \"-(((s12 - s13 + s23)*(-32*s12^2 - 8*(4 - 2*eps)*s12^2 + 2*s12^3 + 2*(4 - 2*eps)*s12^3 + 128*s12*s13 - 48*(4 - 2*eps)*s12*s13 - 8*s12^2*s13 + 5*(4 - 2*eps)*s12^2*s13 + 32*s13^2 - 8*(4 - 2*eps)*s13^2 - 22*s12*s13^2 + 8*(4 - 2*eps)*s12*s13^2 - 4*s13^3 + (4 - 2*eps)*s13^3 + 64*s12*s23 - 16*(4 - 2*eps)*s12*s23 - 8*s12^2*s23 + 5*(4 - 2*eps)*s12^2*s23 - 64*s13*s23 + 16*(4 - 2*eps)*s13*s23 - 12*s12*s13*s23 + 4*(4 - 2*eps)*s12*s13*s23 + 4*s13^2*s23 - (4 - 2*eps)*s13^2*s23 + 32*s23^2 - 8*(4 - 2*eps)*s23^2 - 14*s12*s23^2 + 4*(4 - 2*eps)*s12*s23^2 + 4*s13*s23^2 - (4 - 2*eps)*s13*s23^2 - 4*s23^3 + (4 - 2*eps)*s23^3))/((1 - 2*eps)*s12*(3*s12^2 - 2*s12*s13 - s13^2 - 2*s12*s23 + 2*s13*s23 - s23^2)))\",\n",
    "      6: \"(2*(48*s12^2 + 16*s12^3 - 8*(4 - 2*eps)*s12^3 - 32*s12*s13 - 6*s12^2*s13 - 5*s12^3*s13 + (4 - 2*eps)*s12^3*s13 - 16*s13^2 - 28*s12*s13^2 + 16*(4 - 2*eps)*s12*s13^2 + 6*s12^2*s13^2 - 2*(4 - 2*eps)*s12^2*s13^2 + 2*s13^3 + 7*s12*s13^3 - 3*(4 - 2*eps)*s12*s13^3 - 32*s12*s23 - 6*s12^2*s23 + 32*s13*s23 + 8*s12*s13*s23 + 6*s12^2*s13*s23 - 2*(4 - 2*eps)*s12^2*s13*s23 - 2*s13^2*s23 - 2*s12*s13^2*s23 - 16*s23^2 + 4*s12*s23^2 - 2*s13*s23^2 + 3*s12*s13*s23^2 - (4 - 2*eps)*s12*s13*s23^2 + 2*s23^3))/((1 - 2*eps)*(3*s12^2 - 2*s12*s13 - s13^2 - 2*s12*s23 + 2*s13*s23 - s23^2))\",\n",
    "      7: \"(384*s12^3 + 96*s12^4 - 72*(4 - 2*eps)*s12^4 - 8*s12^5 + 4*(4 - 2*eps)*s12^5 - 256*s12^2*s13 - 48*s12^3*s13 - 32*(4 - 2*eps)*s12^3*s13 - 12*s12^4*s13 + 9*(4 - 2*eps)*s12^4*s13 - 128*s12*s13^2 + 160*s12^2*s13^2 - 48*(4 - 2*eps)*s12^2*s13^2 - 8*s12^3*s13^2 + 8*(4 - 2*eps)*s12^3*s13^2 + 144*s12*s13^3 - 32*(4 - 2*eps)*s12*s13^3 - 16*s12^2*s13^3 + 6*(4 - 2*eps)*s12^2*s13^3 + 32*s13^4 - 8*(4 - 2*eps)*s13^4 - 16*s12*s13^4 + 4*(4 - 2*eps)*s12*s13^4 - 4*s13^5 + (4 - 2*eps)*s13^5 - 256*s12^2*s23 - 48*s12^3*s23 - 32*(4 - 2*eps)*s12^3*s23 - 12*s12^4*s23 + 9*(4 - 2*eps)*s12^4*s23 + 256*s12*s13*s23 + 320*s12^2*s13*s23 - 32*(4 - 2*eps)*s12^2*s13*s23 + 16*s12^3*s13*s23 - 144*s12*s13^2*s23 + 32*(4 - 2*eps)*s12*s13^2*s23 - 48*s12^2*s13^2*s23 + 10*(4 - 2*eps)*s12^2*s13^2*s23 - 128*s13^3*s23 + 32*(4 - 2*eps)*s13^3*s23 + 12*s13^4*s23 - 3*(4 - 2*eps)*s13^4*s23 - 128*s12*s23^2 + 160*s12^2*s23^2 - 48*(4 - 2*eps)*s12^2*s23^2 - 8*s12^3*s23^2 + 8*(4 - 2*eps)*s12^3*s23^2 - 144*s12*s13*s23^2 + 32*(4 - 2*eps)*s12*s13*s23^2 - 48*s12^2*s13*s23^2 + 10*(4 - 2*eps)*s12^2*s13*s23^2 + 192*s13^2*s23^2 - 48*(4 - 2*eps)*s13^2*s23^2 + 32*s12*s13^2*s23^2 - 8*(4 - 2*eps)*s12*s13^2*s23^2 - 8*s13^3*s23^2 + 2*(4 - 2*eps)*s13^3*s23^2 + 144*s12*s23^3 - 32*(4 - 2*eps)*s12*s23^3 - 16*s12^2*s23^3 + 6*(4 - 2*eps)*s12^2*s23^3 - 128*s13*s23^3 + 32*(4 - 2*eps)*s13*s23^3 - 8*s13^2*s23^3 + 2*(4 - 2*eps)*s13^2*s23^3 + 32*s23^4 - 8*(4 - 2*eps)*s23^4 - 16*s12*s23^4 + 4*(4 - 2*eps)*s12*s23^4 + 12*s13*s23^4 - 3*(4 - 2*eps)*s13*s23^4 - 4*s23^5 + (4 - 2*eps)*s23^5)/(4*(1 - 2*eps)*s12*(3*s12^2 - 2*s12*s13 - s13^2 - 2*s12*s23 + 2*s13*s23 - s23^2))\",\n",
    "    },\n",
    "  }\n",
    "  try:\n",
    "    nthreads = int(os.environ['THREADS'])\n",
    "  except KeyError:\n",
    "    try:\n",
    "      nthreads = len(os.sched_getaffinity(0))\n",
    "    except AttributeError:\n",
    "      nthreads = os.cpu_count()\n",
    "  if nthreads > 1:\n",
    "    with multiprocessing.Pool(nthreads) as pool:\n",
    "      integrals = pool.map(call, make_integrals)\n",
    "  else:\n",
    "    integrals = [f() for f in make_integrals]\n",
    "  subprocess.check_call(['rm', '-rf', 'disteval'])\n",
    "  cwd = os.getcwd()\n",
    "  with tempfile.TemporaryDirectory(prefix='psd') as tmp:\n",
    "    os.chdir(tmp)\n",
    "    psd.sum_package('sum_F2',\n",
    "      integrals,\n",
    "      coefficients = coefficients_2,\n",
    "      regulators = ['eps'],\n",
    "      requested_orders = [0],\n",
    "      real_parameters = ['s12', 's13', 's23'],\n",
    "      processes = nthreads,\n",
    "    )\n",
    "    subprocess.check_call(['make', '-C', 'sum_F2', '-j', str(nthreads), 'disteval.done'])\n",
    "    subprocess.check_call(['cp', '-a', 'sum_F2/disteval', cwd])\n",
    "    subprocess.check_call(['rm', '-rf', 'sum_F2'])"
   ]
  },
  {
   "cell_type": "code",
   "execution_count": null,
   "metadata": {},
   "outputs": [],
   "source": [
    "os.chdir(notebookdir)\n",
    "subprocess.check_call(['mv', 'disteval', 'disteval_F2'])"
   ]
  },
  {
   "cell_type": "code",
   "execution_count": null,
   "metadata": {},
   "outputs": [],
   "source": [
    "from pySecDec.integral_interface import DistevalLibrary\n",
    "ggHH_F1 = DistevalLibrary('disteval_F1/sum_F1.json', verbose=False)\n",
    "ggHH_F2 = DistevalLibrary('disteval_F2/sum_F2.json', verbose=False)\n",
    "\n",
    "st_values = np.array([[9, 0.2], [6.39870329615009, -1.00650444378788], [90.9732314908551, -25.4379453442014], [2.31893483066745, -0.293265516477213]])\n",
    "# st_values = np.array([[6.39870329615009, -1.00650444378788], [90.9732314908551, -25.4379453442014], [2.31893483066745, -0.293265516477213]])\n",
    "u_values = 24/23 - np.sum(st_values, axis=1)"
   ]
  },
  {
   "cell_type": "code",
   "execution_count": null,
   "metadata": {},
   "outputs": [],
   "source": [
    "res = [[], []]\n",
    "for idx, u in enumerate(u_values):\n",
    "    s, t = st_values[idx]\n",
    "    print(f\"{s}, {t}, {u}\")\n",
    "    res[0].append(ggHH_F1(parameters={\"s12\": s, \"s13\": t, \"s23\": u}, epsrel=1e-4, epsabs=1e-10, format=\"json\"))\n",
    "    res[1].append(ggHH_F2(parameters={\"s12\": s, \"s13\": t, \"s23\": u}, epsrel=1e-4, epsabs=1e-10, format=\"json\"))"
   ]
  },
  {
   "cell_type": "code",
   "execution_count": null,
   "metadata": {},
   "outputs": [],
   "source": [
    "res_clean = -np.array([[value['sums']['gH^2*gs^2*Na*Tf*flvsumt[1]'][( 0,)][0] for value in f] for f in res])/2"
   ]
  },
  {
   "cell_type": "code",
   "execution_count": null,
   "metadata": {},
   "outputs": [],
   "source": [
    "print(res_clean[0][0]/(-0.0749461727164304 - 0.15120203012495043j))\n",
    "print(res_clean[0][1]/(-0.0985348297976395 - 0.1009306809858643j))\n",
    "print(res_clean[0][2]/(0.0980570755556106 - 0.07352910416799854j))\n",
    "print(res_clean[0][3]/(-0.009777078475883272 + 5.715320604768086e-10j))"
   ]
  },
  {
   "cell_type": "code",
   "execution_count": null,
   "metadata": {},
   "outputs": [],
   "source": [
    "print(res_clean[1][0]/(0.003489043030683092 + 0.004976190464262231j))\n",
    "print(res_clean[1][1]/(-0.012852269928427251 - 0.011621751378445566j))\n",
    "print(res_clean[1][2]/(0.0007185258752910872 - 0.14763494404975352j))\n",
    "print(res_clean[1][3]/(-0.00005951201492848668 + 2.6994990468270655e-8j))"
   ]
  },
  {
   "cell_type": "code",
   "execution_count": null,
   "metadata": {},
   "outputs": [],
   "source": [
    "print(np.abs(res_clean[0][0])/np.abs(-0.0749461727164304 - 0.15120203012495043j))\n",
    "print((np.angle(res_clean[0][0]) - np.angle(-0.0749461727164304 - 0.15120203012495043j))/np.pi*180)"
   ]
  },
  {
   "cell_type": "code",
   "execution_count": null,
   "metadata": {},
   "outputs": [],
   "source": [
    "amp_clean = np.sum(np.abs(res_clean)**2, axis=0)"
   ]
  },
  {
   "cell_type": "code",
   "execution_count": null,
   "metadata": {},
   "outputs": [],
   "source": [
    "res_ref = [[-0.0749461727164304 - 0.15120203012495043j,\n",
    "            -0.0985348297976395 - 0.1009306809858643j,\n",
    "            0.0980570755556106 - 0.07352910416799854j,\n",
    "            -0.009777078475883272 + 5.715320604768086e-10j],\n",
    "           [0.003489043030683092 + 0.004976190464262231j,\n",
    "            -0.012852269928427251 - 0.011621751378445566j,\n",
    "            0.0007185258752910872 - 0.14763494404975352j,\n",
    "            -0.00005951201492848668 + 2.6994990468270655e-8j]]"
   ]
  },
  {
   "cell_type": "code",
   "execution_count": null,
   "metadata": {},
   "outputs": [],
   "source": [
    "amp_ref = np.sum(np.abs(res_ref)**2, axis=0)"
   ]
  },
  {
   "cell_type": "code",
   "execution_count": null,
   "metadata": {},
   "outputs": [],
   "source": [
    "amp_clean/amp_ref"
   ]
  },
  {
   "cell_type": "code",
   "execution_count": null,
   "metadata": {},
   "outputs": [],
   "source": []
  }
 ],
 "metadata": {
  "kernelspec": {
   "display_name": "python310-kernel",
   "language": "python",
   "name": "python310-kernel"
  },
  "language_info": {
   "codemirror_mode": {
    "name": "ipython",
    "version": 3
   },
   "file_extension": ".py",
   "mimetype": "text/x-python",
   "name": "python",
   "nbconvert_exporter": "python",
   "pygments_lexer": "ipython3",
   "version": "3.10.5"
  }
 },
 "nbformat": 4,
 "nbformat_minor": 2
}
