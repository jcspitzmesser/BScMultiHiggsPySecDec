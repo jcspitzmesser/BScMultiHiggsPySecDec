{
 "cells": [
  {
   "cell_type": "code",
   "execution_count": 1,
   "metadata": {},
   "outputs": [],
   "source": [
    "#!/usr/bin/env python3\n",
    "import multiprocessing\n",
    "import os\n",
    "import subprocess\n",
    "import sys\n",
    "import tempfile\n",
    "import sympy as sp\n",
    "import numpy as np\n",
    "import pySecDec as psd"
   ]
  },
  {
   "cell_type": "code",
   "execution_count": 2,
   "metadata": {},
   "outputs": [],
   "source": [
    "notebookdir = os.getcwd()"
   ]
  },
  {
   "cell_type": "code",
   "execution_count": 3,
   "metadata": {},
   "outputs": [],
   "source": [
    "signmap = {\n",
    "  sp.Symbol('x0'): 1,\n",
    "  sp.Symbol('x1'): 1,\n",
    "  sp.Symbol('x2'): 1,\n",
    "}"
   ]
  },
  {
   "cell_type": "code",
   "execution_count": 4,
   "metadata": {},
   "outputs": [],
   "source": [
    "def needs_cdeform(name, Fpoly):\n",
    "  poly = sp.sympify(str(Fpoly))\n",
    "  terms = sp.Add.make_args(poly.expand())\n",
    "  res = not all((t.subs(signmap) > 0) == True for t in terms)\n",
    "  print(f'Needs-Contour-Deformation({name}, {poly}) = {res}')\n",
    "  return res"
   ]
  },
  {
   "cell_type": "code",
   "execution_count": 5,
   "metadata": {},
   "outputs": [],
   "source": [
    "def call(f):\n",
    "  return f()"
   ]
  },
  {
   "cell_type": "code",
   "execution_count": 6,
   "metadata": {},
   "outputs": [],
   "source": [
    "b1_propagators = [\n",
    "  '(l1)^2-1',\n",
    "  '(l1 - q1)^2-1',\n",
    "  '(l1 + q2)^2-1'\n",
    "]"
   ]
  },
  {
   "cell_type": "code",
   "execution_count": 7,
   "metadata": {},
   "outputs": [],
   "source": [
    "b1_replacement_rules = [\n",
    "  ('q1*q1', '0'),\n",
    "  ('q1*q2', 's12/2'),\n",
    "  ('q2*q2', '0')\n",
    "]"
   ]
  },
  {
   "cell_type": "code",
   "execution_count": 8,
   "metadata": {},
   "outputs": [],
   "source": [
    "def int_0_B1_0_1_1():\n",
    "  li = psd.loop_integral.LoopIntegralFromPropagators(\n",
    "    loop_momenta = ['l1'],\n",
    "    external_momenta = ['q1','q2'],\n",
    "    propagators = b1_propagators,\n",
    "    powerlist = [0,1,1],\n",
    "    replacement_rules = b1_replacement_rules,\n",
    "    dimensionality = '4-2*eps',\n",
    "    regulators = ['eps']\n",
    "  )\n",
    "  return psd.LoopPackage(\n",
    "    name = 'B1_0_1_1',\n",
    "    loop_integral = li,\n",
    "    real_parameters = ['s12'],\n",
    "    additional_prefactor = 'I*2^(-4 + 2*eps)*pi^(-2 + eps)',\n",
    "    decomposition_method = 'iterative',\n",
    "    form_optimization_level = 4,\n",
    "    form_work_space = '100M',\n",
    "    form_threads = 1,\n",
    "    contour_deformation = needs_cdeform('B1_0_1_1', li.F)\n",
    "  )"
   ]
  },
  {
   "cell_type": "code",
   "execution_count": 9,
   "metadata": {},
   "outputs": [],
   "source": [
    "def int_1_B1_1_1_1():\n",
    "  li = psd.loop_integral.LoopIntegralFromPropagators(\n",
    "    loop_momenta = ['l1'],\n",
    "    external_momenta = ['q1','q2'],\n",
    "    propagators = b1_propagators,\n",
    "    powerlist = [1,1,1],\n",
    "    replacement_rules = b1_replacement_rules,\n",
    "    dimensionality = '4-2*eps',\n",
    "    regulators = ['eps']\n",
    "  )\n",
    "  return psd.LoopPackage(\n",
    "    name = 'B1_1_1_1',\n",
    "    loop_integral = li,\n",
    "    real_parameters = ['s12'],\n",
    "    additional_prefactor = 'I*2^(-4 + 2*eps)*pi^(-2 + eps)',\n",
    "    decomposition_method = 'geometric_ku',\n",
    "    form_optimization_level = 4,\n",
    "    form_work_space = '100M',\n",
    "    form_threads = 1,\n",
    "    contour_deformation = needs_cdeform('B1_1_1_1', li.F)\n",
    "  )"
   ]
  },
  {
   "cell_type": "code",
   "execution_count": 10,
   "metadata": {},
   "outputs": [],
   "source": [
    "if __name__ == '__main__':\n",
    "  # Always start in the directory this file resides in\n",
    "  thisdir = os.path.dirname(sys.argv[0])\n",
    "  if thisdir: os.chdir(os.path.dirname(sys.argv[0]))"
   ]
  },
  {
   "cell_type": "code",
   "execution_count": 11,
   "metadata": {},
   "outputs": [],
   "source": [
    "  make_integrals = [\n",
    "    int_0_B1_0_1_1,\n",
    "    int_1_B1_1_1_1,\n",
    "  ]"
   ]
  },
  {
   "cell_type": "code",
   "execution_count": 12,
   "metadata": {},
   "outputs": [
    {
     "name": "stdout",
     "output_type": "stream",
     "text": [
      "Needs-Contour-Deformation(B1_1_1_1, x0**2 + 2*x0*x1 + 2*x0*x2 + x1**2 + x1*x2*(2 - s12) + x2**2) = True\n",
      "Needs-Contour-Deformation(B1_0_1_1, x1**2 + x1*x2*(2 - s12) + x2**2) = True\n",
      "running \"sum_package\" for sum\n",
      "running \"make_package\" for \"B1_1_1_1\"\n",
      "running \"make_package\" for \"B1_0_1_1\"\n",
      "number of primary sectors before symmetry finding: number of primary sectors before symmetry finding:2 3\n",
      "\n",
      "number of primary sectors after symmetry finding (iterative): 1\n",
      "number of primary sectors after symmetry finding (light Pak): number of primary sectors after symmetry finding (iterative):1\n",
      " \n",
      "number of primary sectors after symmetry finding (full Pak): 12\n",
      "computing Jacobian determinant for primary sector 0\n",
      "total number sectors before symmetry finding: 1\n",
      "number of primary sectors after symmetry finding (light Pak):total number sectors after symmetry finding (iterative):  21\n",
      "\n",
      "number of primary sectors after symmetry finding (full Pak): 2total number sectors after symmetry finding (light Pak):\n",
      " computing Jacobian determinant for primary sector 0\n",
      "1\n",
      "total number sectors after symmetry finding (full Pak): 1\n",
      "writing FORM files for sector 1\n",
      "total number sectors before symmetry finding: 2\n",
      "total number sectors after symmetry finding (iterative): 2\n",
      "total number sectors after symmetry finding (light Pak): 2\n",
      "total number sectors after symmetry finding (full Pak): 2\n",
      "writing FORM files for sector 1\n",
      "expanding the prefactor 2**(2*eps - 4)*I*pi**(eps - 2)*gamma(eps) (regulators: [eps] , orders: [0] )\n",
      " + (I/(16*pi**2))*eps**-1 + (-EulerGamma*I/(16*pi**2) + I*log(pi)/(16*pi**2) + I*log(2)/(8*pi**2))\n",
      "writing FORM files for sector 2\n",
      "\"B1_0_1_1\" done\n",
      "expanding the prefactor -2**(2*eps - 4)*I*pi**(eps - 2)*gamma(eps + 1) (regulators: [eps] , orders: [0] )\n",
      " + (-I/(16*pi**2))\n",
      "\"B1_1_1_1\" done\n",
      "make: Entering directory '/home/formswap/jasons/psdvxqcq3qa/sum'\n",
      "ln -f B1_0_1_1/disteval/B1_0_1_1.json disteval/B1_0_1_1.json\n",
      "make -C B1_0_1_1/ disteval.done\n",
      "ln -f B1_1_1_1/disteval/B1_1_1_1.json disteval/B1_1_1_1.json\n",
      "make -C B1_1_1_1/ disteval.done\n",
      "make[1]: Entering directory '/home/formswap/jasons/psdvxqcq3qa/sum/B1_0_1_1'\n",
      "make[1]: Entering directory '/home/formswap/jasons/psdvxqcq3qa/sum/B1_1_1_1'\n",
      "g++ -c -o distsrc/builtin.o -fPIC -std=c++14 -O3 -funsafe-math-optimizations  distsrc/builtin.cpp\n",
      "cd codegen && /export/pc/bin/python3.10 '/users/tp/jasons/.local/lib/python3.10/site-packages/pySecDecContrib/bin/formwrapper' \"/users/tp/jasons/.local/lib/python3.10/site-packages/pySecDecContrib/bin/form\" -M -w1 -D optimizationLevel=4 -p '/users/tp/jasons/.local/lib/python3.10/site-packages/pySecDecContrib/lib' -D sectorID=2 '/users/tp/jasons/.local/lib/python3.10/site-packages/pySecDecContrib/lib/write_integrand.frm'\n",
      "cd codegen && /export/pc/bin/python3.10 '/users/tp/jasons/.local/lib/python3.10/site-packages/pySecDecContrib/bin/formwrapper' \"/users/tp/jasons/.local/lib/python3.10/site-packages/pySecDecContrib/bin/form\" -M -w1 -D optimizationLevel=4 -p '/users/tp/jasons/.local/lib/python3.10/site-packages/pySecDecContrib/lib' -D sectorID=1 '/users/tp/jasons/.local/lib/python3.10/site-packages/pySecDecContrib/lib/write_integrand.frm'\n",
      "cd codegen && /export/pc/bin/python3.10 '/users/tp/jasons/.local/lib/python3.10/site-packages/pySecDecContrib/bin/formwrapper' \"/users/tp/jasons/.local/lib/python3.10/site-packages/pySecDecContrib/bin/form\" -M -w1 -D optimizationLevel=4 -p '/users/tp/jasons/.local/lib/python3.10/site-packages/pySecDecContrib/lib' -D sectorID=1 '/users/tp/jasons/.local/lib/python3.10/site-packages/pySecDecContrib/lib/write_integrand.frm'\n",
      "FORM 4.3.0 (Nov 12 2022, v4.3.0) 64-bits         Run: Thu Dec 21 13:45:03 2023\n",
      "    #-\n",
      "  0.09 sec out of 0.11 sec\n",
      "/export/pc/bin/python3.10 '/users/tp/jasons/.local/lib/python3.10/site-packages/pySecDecContrib/bin/export_sector' codegen/sector1.info ./\n",
      "touch codegen/sector1.done\n",
      "g++ -c -o distsrc/sector_1_0.o -fPIC -std=c++14 -O3 -funsafe-math-optimizations  distsrc/sector_1_0.cpp\n",
      "FORM 4.3.0 (Nov 12 2022, v4.3.0) 64-bits         Run: Thu Dec 21 13:45:03 2023\n",
      "    #-\n",
      "  0.21 sec out of 0.25 sec\n",
      "FORM 4.3.0 (Nov 12 2022, v4.3.0) 64-bits         Run: Thu Dec 21 13:45:03 2023\n",
      "    #-\n",
      "  0.23 sec out of 0.25 sec\n",
      "/export/pc/bin/python3.10 '/users/tp/jasons/.local/lib/python3.10/site-packages/pySecDecContrib/bin/export_sector' codegen/sector1.info ./\n",
      "/export/pc/bin/python3.10 '/users/tp/jasons/.local/lib/python3.10/site-packages/pySecDecContrib/bin/export_sector' codegen/sector2.info ./\n",
      "touch codegen/sector1.done\n",
      "g++ -c -o distsrc/builtin.o -fPIC -std=c++14 -O3 -funsafe-math-optimizations  distsrc/builtin.cpp\n",
      "touch codegen/sector2.done\n",
      "g++ -c -o distsrc/sector_2_0.o -fPIC -std=c++14 -O3 -funsafe-math-optimizations  distsrc/sector_2_0.cpp\n",
      "g++ -c -o distsrc/sector_1_0.o -fPIC -std=c++14 -O3 -funsafe-math-optimizations  distsrc/sector_1_0.cpp\n",
      "g++ -shared -o disteval/builtin.so distsrc/builtin.o\n",
      "g++ -shared -o disteval/B1_0_1_1.so @disteval/B1_0_1_1.so.sourcelist\n",
      "g++ -shared -o disteval/builtin.so distsrc/builtin.o\n",
      "date >disteval.done\n",
      "make[1]: Leaving directory '/home/formswap/jasons/psdvxqcq3qa/sum/B1_0_1_1'\n",
      "ln -f B1_0_1_1/disteval/B1_0_1_1.so disteval/B1_0_1_1.so\n",
      "ln -f B1_0_1_1/disteval/builtin.so disteval/builtin.so\n",
      "g++ -shared -o disteval/B1_1_1_1.so @disteval/B1_1_1_1.so.sourcelist\n",
      "date >disteval.done\n",
      "make[1]: Leaving directory '/home/formswap/jasons/psdvxqcq3qa/sum/B1_1_1_1'\n",
      "ln -f B1_1_1_1/disteval/B1_1_1_1.so disteval/B1_1_1_1.so\n",
      "date >disteval.done\n",
      "make: Leaving directory '/home/formswap/jasons/psdvxqcq3qa/sum'\n"
     ]
    }
   ],
   "source": [
    "  coefficients = {\n",
    "    \"gH*gs^2*ImagI*Na*Tf*flvsumt[1]\": {\n",
    "      0: \"(-16*eps*mt1)/(2 - 2*eps)\",\n",
    "      1: \"(4*mt1*(-8 - 2*s12 + (4 - 2*eps)*s12))/(2 - 2*eps)\",\n",
    "    },\n",
    "  }\n",
    "  try:\n",
    "    nthreads = int(os.environ['THREADS'])\n",
    "  except KeyError:\n",
    "    try:\n",
    "      nthreads = len(os.sched_getaffinity(0))\n",
    "    except AttributeError:\n",
    "      nthreads = os.cpu_count()\n",
    "  if nthreads > 1:\n",
    "    with multiprocessing.Pool(nthreads) as pool:\n",
    "      integrals = pool.map(call, make_integrals)\n",
    "  else:\n",
    "    integrals = [f() for f in make_integrals]\n",
    "  subprocess.check_call(['rm', '-rf', 'disteval'])\n",
    "  cwd = os.getcwd()\n",
    "  with tempfile.TemporaryDirectory(prefix='psd') as tmp:\n",
    "    os.chdir(tmp)\n",
    "    psd.sum_package('sum',\n",
    "      integrals,\n",
    "      coefficients = coefficients,\n",
    "      regulators = ['eps'],\n",
    "      requested_orders = [0],\n",
    "      real_parameters = ['s12'],\n",
    "      processes = nthreads,\n",
    "    )\n",
    "    subprocess.check_call(['make', '-C', 'sum', '-j', str(nthreads), 'disteval.done'])\n",
    "    subprocess.check_call(['cp', '-a', 'sum/disteval', cwd])\n",
    "    subprocess.check_call(['rm', '-rf', 'sum'])"
   ]
  },
  {
   "cell_type": "code",
   "execution_count": 13,
   "metadata": {},
   "outputs": [],
   "source": [
    "from pySecDec.integral_interface import DistevalLibrary\n",
    "\n",
    "os.chdir(notebookdir)\n",
    "ggH_1L = DistevalLibrary('disteval/sum.json', verbose=False)"
   ]
  },
  {
   "cell_type": "code",
   "execution_count": 14,
   "metadata": {},
   "outputs": [],
   "source": [
    "res1 = ggH_1L(parameters={\"s12\": 2.11426927144226, \"mt1\": 1.0}, epsrel=1e-4, epsabs=1e-10, format=\"json\")\n",
    "res2 = ggH_1L(parameters={\"s12\": 4.523321402575598, \"mt1\": 1.0}, epsrel=1e-4, epsabs=1e-10, format=\"json\")"
   ]
  },
  {
   "cell_type": "code",
   "execution_count": 35,
   "metadata": {},
   "outputs": [
    {
     "name": "stdout",
     "output_type": "stream",
     "text": [
      "eps^0 : (-1.0251850223827722e-15+0.010361453077406546j) +/- ( (-1.0317818879395938e-15-7.708686780390905e-16j) )\n",
      "eps^0 : (-0.003261442304233053+0.03219341118936804j) +/- ( (-6.415820503914573e-16-7.199281284855906e-16j) )\n"
     ]
    }
   ],
   "source": [
    "result1, result2 = res1['sums']['gH*gs^2*ImagI*Na*Tf*flvsumt[1]'], res2['sums']['gH*gs^2*ImagI*Na*Tf*flvsumt[1]']\n",
    "print('eps^0 :', -result1[( 0,)][0]/2, '+/- (', -result1[( 0,)][1]/2, ')')\n",
    "print('eps^0 :', -result2[( 0,)][0]/2, '+/- (', -result2[( 0,)][1]/2, ')')"
   ]
  },
  {
   "cell_type": "code",
   "execution_count": 36,
   "metadata": {},
   "outputs": [],
   "source": [
    "res_theo = 1j*np.array([1.63621509+0.j, 5.08377972+0.51502633j])/(16*np.pi**2)\n",
    "res_alib = -np.array([result1[( 0,)][0], result2[( 0,)][0]])/2"
   ]
  },
  {
   "cell_type": "code",
   "execution_count": 37,
   "metadata": {},
   "outputs": [
    {
     "name": "stdout",
     "output_type": "stream",
     "text": [
      "[1.+9.89422055e-14j 1.-1.03318627e-09j]\n"
     ]
    }
   ],
   "source": [
    "print(res_alib/res_theo)"
   ]
  },
  {
   "cell_type": "code",
   "execution_count": 46,
   "metadata": {},
   "outputs": [],
   "source": [
    "import matplotlib.pyplot as plt\n",
    "\n",
    "s12, m12 = np.linspace(2, 6, 100), []\n",
    "for s_value in s12:\n",
    "    raw_data = ggH_1L(parameters={\"s12\": s_value, \"mt1\": 1.0}, epsrel=1e-4, epsabs=1e-10, format=\"json\")\n",
    "    m12.append(raw_data['sums']['gH*gs^2*ImagI*Na*Tf*flvsumt[1]'][( 0,)][0])\n",
    "m12 = -0.5*np.array(m12)"
   ]
  },
  {
   "cell_type": "code",
   "execution_count": 47,
   "metadata": {},
   "outputs": [
    {
     "data": {
      "image/png": "[encoded data removed]",
      "text/plain": [
       "<Figure size 640x480 with 1 Axes>"
      ]
     },
     "metadata": {},
     "output_type": "display_data"
    }
   ],
   "source": [
    "plt.plot(s12, m12.real)\n",
    "plt.plot(s12, m12.imag)\n",
    "plt.show()"
   ]
  },
  {
   "cell_type": "code",
   "execution_count": 54,
   "metadata": {},
   "outputs": [
    {
     "data": {
      "image/png": "[encoded data removed]",
      "text/plain": [
       "<Figure size 640x480 with 1 Axes>"
      ]
     },
     "metadata": {},
     "output_type": "display_data"
    }
   ],
   "source": [
    "plt.plot(s12, np.abs(m12)**2)\n",
    "plt.show()"
   ]
  },
  {
   "cell_type": "code",
   "execution_count": null,
   "metadata": {},
   "outputs": [],
   "source": []
  }
 ],
 "metadata": {
  "kernelspec": {
   "display_name": "python310-kernel",
   "language": "python",
   "name": "python310-kernel"
  },
  "language_info": {
   "codemirror_mode": {
    "name": "ipython",
    "version": 3
   },
   "file_extension": ".py",
   "mimetype": "text/x-python",
   "name": "python",
   "nbconvert_exporter": "python",
   "pygments_lexer": "ipython3",
   "version": "3.10.5"
  }
 },
 "nbformat": 4,
 "nbformat_minor": 2
}
